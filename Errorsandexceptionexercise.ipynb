{
 "cells": [
  {
   "cell_type": "code",
   "execution_count": 1,
   "metadata": {},
   "outputs": [],
   "source": [
    "def squareletters():\n",
    "    try:\n",
    "        for i in ['a','b','c']:\n",
    "            print (i**2)\n",
    "\n",
    "    except:\n",
    "        print ('Cannot perform operation. Type Error')"
   ]
  },
  {
   "cell_type": "code",
   "execution_count": 2,
   "metadata": {},
   "outputs": [
    {
     "name": "stdout",
     "output_type": "stream",
     "text": [
      "Cannot perform operation. Type Error\n"
     ]
    }
   ],
   "source": [
    "squareletters()"
   ]
  },
  {
   "cell_type": "code",
   "execution_count": 3,
   "metadata": {},
   "outputs": [],
   "source": [
    "def division(): \n",
    "    x=5\n",
    "    y=0\n",
    "    \n",
    "    try:\n",
    "        z=x/y\n",
    "        return z\n",
    "    \n",
    "    except:\n",
    "        print('Cannot divide by zero')\n",
    "        \n",
    "    finally:\n",
    "        print ('All Done')\n",
    "    "
   ]
  },
  {
   "cell_type": "code",
   "execution_count": 4,
   "metadata": {},
   "outputs": [
    {
     "name": "stdout",
     "output_type": "stream",
     "text": [
      "Cannot divide by zero\n",
      "All Done\n"
     ]
    }
   ],
   "source": [
    "division()"
   ]
  },
  {
   "cell_type": "code",
   "execution_count": 5,
   "metadata": {},
   "outputs": [],
   "source": [
    "def intsquare():\n",
    "    \n",
    "    while True:\n",
    "        \n",
    "        try:\n",
    "            num=int(input('Enter a number: '))\n",
    "            z=num**2\n",
    "            \n",
    "        except:\n",
    "            print ('Wrong Input. Enter an Integer.')\n",
    "            continue\n",
    "            \n",
    "        else:\n",
    "            print ('Thank you, your squared number is: ', z)\n",
    "            break"
   ]
  },
  {
   "cell_type": "code",
   "execution_count": 6,
   "metadata": {},
   "outputs": [
    {
     "name": "stdout",
     "output_type": "stream",
     "text": [
      "Enter a number: q\n",
      "Wrong Input. Enter an Integer.\n",
      "Enter a number: 3\n",
      "Thank you, your squared number is:  9\n"
     ]
    }
   ],
   "source": [
    "intsquare()"
   ]
  },
  {
   "cell_type": "code",
   "execution_count": null,
   "metadata": {},
   "outputs": [],
   "source": []
  }
 ],
 "metadata": {
  "kernelspec": {
   "display_name": "Python 3",
   "language": "python",
   "name": "python3"
  },
  "language_info": {
   "codemirror_mode": {
    "name": "ipython",
    "version": 3
   },
   "file_extension": ".py",
   "mimetype": "text/x-python",
   "name": "python",
   "nbconvert_exporter": "python",
   "pygments_lexer": "ipython3",
   "version": "3.7.4"
  }
 },
 "nbformat": 4,
 "nbformat_minor": 2
}
