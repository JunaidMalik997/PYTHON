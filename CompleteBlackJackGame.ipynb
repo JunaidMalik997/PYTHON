{
 "cells": [
  {
   "cell_type": "code",
   "execution_count": 1,
   "metadata": {},
   "outputs": [],
   "source": [
    "import random\n",
    "\n",
    "#global variables\n",
    "suits = ('Hearts', 'Diamonds', 'Spades', 'Clubs')\n",
    "ranks = ('Two', 'Three', 'Four', 'Five', 'Six', 'Seven', 'Eight', 'Nine', 'Ten', 'Jack', 'Queen', 'King', 'Ace')\n",
    "values = {'Two':2, 'Three':3, 'Four':4, 'Five':5, 'Six':6, 'Seven':7, 'Eight':8, 'Nine':9, 'Ten':10, 'Jack':10,\n",
    "         'Queen':10, 'King':10, 'Ace':11}\n",
    "\n",
    "playing = True     #boolean variable to control the flow of game using while loops"
   ]
  },
  {
   "cell_type": "code",
   "execution_count": 2,
   "metadata": {},
   "outputs": [
    {
     "data": {
      "text/plain": [
       "tuple"
      ]
     },
     "execution_count": 2,
     "metadata": {},
     "output_type": "execute_result"
    }
   ],
   "source": [
    "type(suits)"
   ]
  },
  {
   "cell_type": "code",
   "execution_count": 3,
   "metadata": {},
   "outputs": [],
   "source": [
    "class Card():\n",
    "    \n",
    "    def __init__(self, suit, rank):\n",
    "        self.suit=suit\n",
    "        self.rank=rank\n",
    "        \n",
    "    #def __str__(self):\n",
    "        #return (f'{self.rank} of {self.suit}')"
   ]
  },
  {
   "cell_type": "code",
   "execution_count": 4,
   "metadata": {},
   "outputs": [],
   "source": [
    "class Deck():\n",
    "    \n",
    "    def __init__(self):\n",
    "        \n",
    "        self.deck=[]\n",
    "        for rank in ranks:\n",
    "            for suit in suits:\n",
    "                self.deck.append(Card(suit,rank))\n",
    "                \n",
    "        \n",
    "    def __str__(self):\n",
    "        card_composition=' '\n",
    "        numofcards=0\n",
    "        for card in self.deck:\n",
    "            card_composition+='\\n'+card.__str__()         #this card is the instance of the class Card\n",
    "            numofcards+=1\n",
    "        print ('Total number of cards: ', numofcards)\n",
    "        return 'The deck has: '+card_composition\n",
    "        \n",
    "    def shuffle(self):\n",
    "        random.shuffle(self.deck)\n",
    "        \n",
    "    def deal(self):\n",
    "        single_card=self.deck.pop()\n",
    "        return single_card"
   ]
  },
  {
   "cell_type": "code",
   "execution_count": 5,
   "metadata": {
    "scrolled": true
   },
   "outputs": [
    {
     "name": "stdout",
     "output_type": "stream",
     "text": [
      "Total number of cards:  52\n",
      "The deck has:  \n",
      "<__main__.Card object at 0x000002F271E3A748>\n",
      "<__main__.Card object at 0x000002F271E32408>\n",
      "<__main__.Card object at 0x000002F271E3A548>\n",
      "<__main__.Card object at 0x000002F271E3A448>\n",
      "<__main__.Card object at 0x000002F271E3A408>\n",
      "<__main__.Card object at 0x000002F271E3A508>\n",
      "<__main__.Card object at 0x000002F271E3A248>\n",
      "<__main__.Card object at 0x000002F271E32288>\n",
      "<__main__.Card object at 0x000002F271E3A6C8>\n",
      "<__main__.Card object at 0x000002F271E3A308>\n",
      "<__main__.Card object at 0x000002F271E3A788>\n",
      "<__main__.Card object at 0x000002F271E3A488>\n",
      "<__main__.Card object at 0x000002F271E3A288>\n",
      "<__main__.Card object at 0x000002F271E3AA48>\n",
      "<__main__.Card object at 0x000002F271E3A888>\n",
      "<__main__.Card object at 0x000002F271E3A808>\n",
      "<__main__.Card object at 0x000002F271E323C8>\n",
      "<__main__.Card object at 0x000002F271E3A988>\n",
      "<__main__.Card object at 0x000002F271E3A388>\n",
      "<__main__.Card object at 0x000002F271E3A708>\n",
      "<__main__.Card object at 0x000002F271E32208>\n",
      "<__main__.Card object at 0x000002F271E3A848>\n",
      "<__main__.Card object at 0x000002F271E32188>\n",
      "<__main__.Card object at 0x000002F271E3A4C8>\n",
      "<__main__.Card object at 0x000002F271E3A5C8>\n",
      "<__main__.Card object at 0x000002F271E3A2C8>\n",
      "<__main__.Card object at 0x000002F271E320C8>\n",
      "<__main__.Card object at 0x000002F271E3A3C8>\n",
      "<__main__.Card object at 0x000002F271E32348>\n",
      "<__main__.Card object at 0x000002F271D42A08>\n",
      "<__main__.Card object at 0x000002F271E3A588>\n",
      "<__main__.Card object at 0x000002F271E3A908>\n",
      "<__main__.Card object at 0x000002F271E32108>\n",
      "<__main__.Card object at 0x000002F271E3A648>\n",
      "<__main__.Card object at 0x000002F271E3A348>\n",
      "<__main__.Card object at 0x000002F271E3A8C8>\n",
      "<__main__.Card object at 0x000002F271E32448>\n",
      "<__main__.Card object at 0x000002F271E3AFC8>\n",
      "<__main__.Card object at 0x000002F271E3A688>\n",
      "<__main__.Card object at 0x000002F271E322C8>\n",
      "<__main__.Card object at 0x000002F271E3AA88>\n",
      "<__main__.Card object at 0x000002F271E32248>\n",
      "<__main__.Card object at 0x000002F271E3A948>\n",
      "<__main__.Card object at 0x000002F271E32088>\n",
      "<__main__.Card object at 0x000002F271E32148>\n",
      "<__main__.Card object at 0x000002F271E32308>\n",
      "<__main__.Card object at 0x000002F271E3A608>\n",
      "<__main__.Card object at 0x000002F271E3A1C8>\n",
      "<__main__.Card object at 0x000002F271E32388>\n",
      "<__main__.Card object at 0x000002F271E3A7C8>\n",
      "<__main__.Card object at 0x000002F271E321C8>\n",
      "<__main__.Card object at 0x000002F271E32048>\n"
     ]
    }
   ],
   "source": [
    "test_deck=Deck()\n",
    "test_deck.shuffle()\n",
    "print(test_deck)"
   ]
  },
  {
   "cell_type": "code",
   "execution_count": 32,
   "metadata": {},
   "outputs": [],
   "source": [
    "class Hand():\n",
    "    \n",
    "    def __init__(self):\n",
    "        self.cards=[]\n",
    "        self.value=0\n",
    "        self.aces=0\n",
    "        \n",
    "    def add_card(self,card):\n",
    "        self.cards.append(card)\n",
    "        self.value+=values[card.rank]\n",
    "        \n",
    "        #track for aces\n",
    "        \n",
    "        if card.rank=='Ace':\n",
    "            self.aces+=1\n",
    "            \n",
    "    def adjust_for_ace(self):\n",
    "        \n",
    "        #if total value>21 and I still have an ace then change my ace to 1 instead of an 11\n",
    "        if self.value>21 and self.aces>0:\n",
    "            self.value-=10\n",
    "            self.aces-=1"
   ]
  },
  {
   "cell_type": "code",
   "execution_count": 33,
   "metadata": {},
   "outputs": [
    {
     "name": "stdout",
     "output_type": "stream",
     "text": [
      "Jack of Spades\n",
      "10\n"
     ]
    }
   ],
   "source": [
    "test_deck=Deck()\n",
    "test_deck.shuffle()\n",
    "\n",
    "test_player=Hand()\n",
    "pulled_card=test_deck.deal()\n",
    "print(pulled_card)\n",
    "test_player.add_card(pulled_card)\n",
    "print(test_player.value)"
   ]
  },
  {
   "cell_type": "code",
   "execution_count": 34,
   "metadata": {},
   "outputs": [],
   "source": [
    "class Chips():\n",
    "    \n",
    "    def __init__(self,total=100):\n",
    "        self.total=total\n",
    "        self.bet=0\n",
    "        \n",
    "    def win_bet(self):\n",
    "        self.total+=self.bet\n",
    "        \n",
    "    def lose_bet(self):\n",
    "        self.total-=self.bet"
   ]
  },
  {
   "cell_type": "markdown",
   "metadata": {},
   "source": [
    "A lot of actions are going to be repetitive. That's where functions come in"
   ]
  },
  {
   "cell_type": "code",
   "execution_count": 35,
   "metadata": {},
   "outputs": [],
   "source": [
    "def take_bet(chips):\n",
    "    \n",
    "    while True:\n",
    "        try:\n",
    "            chips.bet=int(input('Enter the amount of chips you want to bet: '))\n",
    "                \n",
    "        except:\n",
    "            print ('Enter a valid integer value less than your available chips')\n",
    "            continue\n",
    "            \n",
    "        else:\n",
    "            if (chips.bet>chips.total):\n",
    "                print ('You do not have enough chips. You have {}'.format(chips.total))\n",
    "            else:\n",
    "                break"
   ]
  },
  {
   "cell_type": "code",
   "execution_count": 36,
   "metadata": {},
   "outputs": [],
   "source": [
    "def hit(deck, hand):\n",
    "    \n",
    "    single_card=deck.deal()\n",
    "    hand.add_card(single_card)\n",
    "    hand.adjust_for_ace()                 #checks for an ace"
   ]
  },
  {
   "cell_type": "code",
   "execution_count": 37,
   "metadata": {},
   "outputs": [],
   "source": [
    "def hit_or_stand(deck,hand):\n",
    "    \n",
    "    global playing   #to control an upcoming while loop\n",
    "    \n",
    "    while playing:\n",
    "        choice=input('Do you want to hit or stay? Enter h or s:  ')\n",
    "        if (choice.lower()=='h'):\n",
    "            hit(deck,hand)\n",
    "\n",
    "        else:\n",
    "            print ('Player stands. Dealers Turn now!')\n",
    "            playing=False\n",
    "        break"
   ]
  },
  {
   "cell_type": "markdown",
   "metadata": {},
   "source": [
    "Write functions to handle end of game scenarios"
   ]
  },
  {
   "cell_type": "code",
   "execution_count": 38,
   "metadata": {},
   "outputs": [],
   "source": [
    "def player_busts(player,dealer,chips):    #player and dealer are represented by hand\n",
    "    print ('Player Busts')\n",
    "    chips.lose_bet()\n",
    "    \n",
    "def player_wins(player,dealer,chips):\n",
    "    print ('Player Wins')\n",
    "    chips.win_bet()\n",
    "    \n",
    "def dealer_busts(player,dealer,chips):\n",
    "    print ('Player Wins.Dealer Busts')\n",
    "    chips.win_bet()\n",
    "    \n",
    "def dealer_wins(player,dealer,chips):\n",
    "    print ('Dealer Wins')\n",
    "    chips.lose_bet()\n",
    "    \n",
    "def push(player,dealer):\n",
    "    print ('Dealer and Player Tie. PUSH!')"
   ]
  },
  {
   "cell_type": "code",
   "execution_count": 39,
   "metadata": {},
   "outputs": [],
   "source": [
    "def show_some(player,dealer):\n",
    "    print('Dealers Hand: ')\n",
    "    print('<Hidden Card>')\n",
    "    print(dealer.cards[1])\n",
    "    print('\\n')\n",
    "    print('Players Hand: ')\n",
    "    for card in player.cards:\n",
    "        print(card)\n",
    "        \n",
    "def show_all(player,dealer):\n",
    "    print('Dealers Hand: ')\n",
    "    for card in dealer.cards:\n",
    "        print(card)\n",
    "    print('\\n')\n",
    "    print('Players Hand: ')\n",
    "    for card in player.cards:\n",
    "        print(card)"
   ]
  },
  {
   "cell_type": "code",
   "execution_count": 40,
   "metadata": {},
   "outputs": [
    {
     "name": "stdout",
     "output_type": "stream",
     "text": [
      "Welcome to BlackJack\n",
      "Enter the amount of chips you want to bet: 110\n",
      "You do not have enough chips. You have 100\n",
      "Enter the amount of chips you want to bet: 20\n",
      "Dealers Hand: \n",
      "<Hidden Card>\n",
      "Three of Spades\n",
      "\n",
      "\n",
      "Players Hand: \n",
      "Six of Hearts\n",
      "Three of Hearts\n",
      "Do you want to hit or stay? Enter h or s:  h\n",
      "Dealers Hand: \n",
      "<Hidden Card>\n",
      "Three of Spades\n",
      "\n",
      "\n",
      "Players Hand: \n",
      "Six of Hearts\n",
      "Three of Hearts\n",
      "Nine of Clubs\n",
      "Do you want to hit or stay? Enter h or s:  s\n",
      "Player stands. Dealers Turn now!\n",
      "Dealers Hand: \n",
      "<Hidden Card>\n",
      "Three of Spades\n",
      "\n",
      "\n",
      "Players Hand: \n",
      "Six of Hearts\n",
      "Three of Hearts\n",
      "Nine of Clubs\n",
      "Dealers Hand: \n",
      "Six of Clubs\n",
      "Three of Spades\n",
      "Four of Hearts\n",
      "Seven of Spades\n",
      "\n",
      "\n",
      "Players Hand: \n",
      "Six of Hearts\n",
      "Three of Hearts\n",
      "Nine of Clubs\n",
      "Dealer Wins\n",
      "\n",
      " Player total chips are at: 80\n",
      "Would you like to play another hand? y/nn\n",
      "Thank you for playing\n"
     ]
    }
   ],
   "source": [
    "while True:\n",
    "    \n",
    "    print('Welcome to BlackJack')\n",
    "    deck=Deck()\n",
    "    deck.shuffle()\n",
    "    \n",
    "    #now we want to setup the plaeyers themselves. Setup two hands for each player\n",
    "    player_hand=Hand()\n",
    "    player_hand.add_card(deck.deal())\n",
    "    player_hand.add_card(deck.deal())\n",
    "    \n",
    "    dealer_hand=Hand()\n",
    "    dealer_hand.add_card(deck.deal())\n",
    "    dealer_hand.add_card(deck.deal())\n",
    "    \n",
    "    #setup the player chips\n",
    "    player_chips=Chips()\n",
    "    \n",
    "    #prompt the player for their bet\n",
    "    take_bet(player_chips)           #take bet is a function that takes instance of Chips as it's argument\n",
    "    \n",
    "    #show cards(this is the start of the game so we will call show some function)\n",
    "    show_some(player_hand,dealer_hand)\n",
    "    \n",
    "    while playing:         #recall this global variable from hit or stand function\n",
    "        \n",
    "        #prompt for player to hit or stand\n",
    "        hit_or_stand(deck,player_hand)\n",
    "        \n",
    "        #show cards\n",
    "        show_some(player_hand,dealer_hand)\n",
    "        \n",
    "        #If player's hand exceeds 21, run player_busts() and break out of loop\n",
    "        if player_hand.value>21:\n",
    "            player_busts(player_hand,dealer_hand,player_chips)\n",
    "            break\n",
    "            \n",
    "    #if the player has not busted, play dealer's hand until reaches 17\n",
    "    if player_hand.value<21:\n",
    "        \n",
    "        while dealer_hand.value<17:\n",
    "            hit(deck,dealer_hand)\n",
    "            \n",
    "        #show all cards\n",
    "        show_all(player_hand,dealer_hand)\n",
    "        \n",
    "        #run different winning scenarios\n",
    "        if dealer_hand.value>21:\n",
    "            dealer_busts(player_hand,dealer_hand,player_chips)\n",
    "            \n",
    "        elif dealer_hand.value>player_hand.value:\n",
    "            dealer_wins(player_hand,dealer_hand,player_chips)\n",
    "            \n",
    "        elif dealer_hand.value<player_hand.value:\n",
    "            player_wins(player_hand,dealer_hand,player_chips)\n",
    "            \n",
    "        else:\n",
    "            push(player_hand,dealer_hand)\n",
    "            \n",
    "     #Inform player of their chips total\n",
    "    print('\\n Player total chips are at: {}'.format(player_chips.total))\n",
    "    \n",
    "    #ask to play again\n",
    "    new_game=input('Would you like to play another hand? y/n')\n",
    "    \n",
    "    if new_game.lower()=='y':\n",
    "        playing=True\n",
    "        continue\n",
    "        \n",
    "    else:\n",
    "        print('Thank you for playing')\n",
    "        break"
   ]
  },
  {
   "cell_type": "code",
   "execution_count": null,
   "metadata": {},
   "outputs": [],
   "source": []
  }
 ],
 "metadata": {
  "kernelspec": {
   "display_name": "Python 3",
   "language": "python",
   "name": "python3"
  },
  "language_info": {
   "codemirror_mode": {
    "name": "ipython",
    "version": 3
   },
   "file_extension": ".py",
   "mimetype": "text/x-python",
   "name": "python",
   "nbconvert_exporter": "python",
   "pygments_lexer": "ipython3",
   "version": "3.7.4"
  }
 },
 "nbformat": 4,
 "nbformat_minor": 2
}
