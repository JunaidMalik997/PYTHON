{
 "cells": [
  {
   "cell_type": "code",
   "execution_count": 275,
   "metadata": {},
   "outputs": [],
   "source": [
    "import random"
   ]
  },
  {
   "cell_type": "code",
   "execution_count": 288,
   "metadata": {},
   "outputs": [],
   "source": [
    "class BlackJack():\n",
    "    \n",
    "    def __init__(self, dealertotal=0, playertotal=0):\n",
    "        self.dealertotal=dealertotal\n",
    "        self.playertotal=playertotal\n",
    "        \n",
    "    def playerturn(self):\n",
    "        i=1\n",
    "        while (i<=2):\n",
    "            if (self.playertotal<=21):\n",
    "                playercard=random.randint(1,11)\n",
    "                self.playertotal+=playercard\n",
    "                i=i+1\n",
    "                if (self.playertotal==21):\n",
    "                    print ('BlackJack')\n",
    "                    print ('Player you have won!!')\n",
    "                \n",
    "            print (self.playertotal)\n",
    "            \n",
    "        print ('Player Total: ', self.playertotal)\n",
    "            \n",
    "        \n",
    "    def dealerturn(self):\n",
    "        i=1\n",
    "        while (i<=2):\n",
    "            if (self.dealertotal<=21):\n",
    "                dealercard=random.randint(1,11)\n",
    "                self.dealertotal+=dealercard\n",
    "                i=i+1\n",
    "                if (self.dealertotal==21):\n",
    "                    print('BlackJack')\n",
    "                    print('Dealer you have won') \n",
    "                \n",
    "            print (self.dealertotal)\n",
    "            \n",
    "        print ('Dealer Total: ', self.dealertotal)\n",
    "            \n",
    "    def extracardplayer(self):\n",
    "        while True:\n",
    "            choice_player=input('Player do you want to trade another card? y/n: ')\n",
    "            if choice_player.lower()=='y':\n",
    "                playerextracard=random.randint(1,11)\n",
    "                self.playertotal+=playerextracard\n",
    "                print ('Player Total: ', self.playertotal)\n",
    "                if (self.playertotal==21):\n",
    "                    print ('Player BlackJack')\n",
    "                    print ('Player won')\n",
    "                    print (f'Player Total:{self.playertotal}\\nDealer Total:{self.dealertotal}')\n",
    "                    break\n",
    "                elif (self.playertotal>21):\n",
    "                    print ('Player Busted')\n",
    "                    print ('Dealer Won')\n",
    "                    print (f'Dealer Total:{self.dealertotal}\\nPlayer Total:{self.playertotal}')\n",
    "                    break\n",
    "            else:\n",
    "                print (f'Player Total:{self.playertotal}\\nDealer Total:{self.dealertotal}')\n",
    "                break\n",
    "                \n",
    "    def extracarddealer(self):\n",
    "        while True:\n",
    "            choice_dealer=input('Dealer do you want to trade another card? y/n: ')\n",
    "            if choice_dealer.lower()=='y':\n",
    "                dealerextracard=random.randint(1,11)\n",
    "                self.dealertotal+=dealerextracard\n",
    "                print ('Dealer total: ', self.dealertotal)\n",
    "                if (self.dealertotal==21):\n",
    "                    print ('Dealer BlackJack')\n",
    "                    print ('Dealer Won')\n",
    "                    print (f'Dealer Total:{self.dealertotal}\\nPlayer Total:{self.playertotal}')\n",
    "                    break\n",
    "                elif (self.dealertotal>21):\n",
    "                    print ('Dealer Busted')\n",
    "                    print ('Player Won')\n",
    "                    print (f'Player Total:{self.playertotal}\\nDealer Total:{self.dealertotal}')\n",
    "                    break\n",
    "            else:\n",
    "                print (f'Dealer Total:{self.dealertotal}\\nPlayer Total:{self.playertotal}')\n",
    "                break\n",
    "                \n",
    "    def wincheck(self):\n",
    "        diffplayer=self.playertotal-21\n",
    "        diffdealer=self.dealertotal-21\n",
    "        \n",
    "        if (diffplayer==0 or diffdealer==0):\n",
    "            print ('BlackJack has already occured!')\n",
    "            print (f'Dealer Total:{self.dealertotal}\\nPlayer Total:{self.playertotal}')\n",
    "            \n",
    "        elif (diffplayer>0 or diffdealer>0):\n",
    "            print ('Game has already Busted!')\n",
    "            print (f'Dealer Total:{self.dealertotal}\\nPlayer Total:{self.playertotal}')\n",
    "            \n",
    "        elif (diffplayer==diffdealer):\n",
    "            print ('Scores right now are equal')\n",
    "            print ('Game Tied')\n",
    "            \n",
    "            \n",
    "        elif (diffplayer>diffdealer):\n",
    "            print ('Player has won the game')\n",
    "            print (f'Player Total:{self.playertotal}\\nDealer Total:{self.dealertotal}')\n",
    "            \n",
    "        else:\n",
    "            print ('Dealer has won the game')\n",
    "            print (f'Dealer Total:{self.dealertotal}\\nPlayer Total:{self.playertotal}')"
   ]
  },
  {
   "cell_type": "code",
   "execution_count": 289,
   "metadata": {},
   "outputs": [],
   "source": [
    "game=BlackJack(0,0)"
   ]
  },
  {
   "cell_type": "code",
   "execution_count": 290,
   "metadata": {},
   "outputs": [
    {
     "name": "stdout",
     "output_type": "stream",
     "text": [
      "7\n",
      "8\n",
      "Player Total:  8\n"
     ]
    }
   ],
   "source": [
    "game.playerturn()"
   ]
  },
  {
   "cell_type": "code",
   "execution_count": 291,
   "metadata": {
    "scrolled": false
   },
   "outputs": [
    {
     "name": "stdout",
     "output_type": "stream",
     "text": [
      "4\n",
      "12\n",
      "Dealer Total:  12\n"
     ]
    }
   ],
   "source": [
    "game.dealerturn()"
   ]
  },
  {
   "cell_type": "code",
   "execution_count": 292,
   "metadata": {},
   "outputs": [
    {
     "name": "stdout",
     "output_type": "stream",
     "text": [
      "Player do you want to trade another card? y/n: y\n",
      "Player Total:  11\n",
      "Player do you want to trade another card? y/n: y\n",
      "Player Total:  16\n",
      "Player do you want to trade another card? y/n: y\n",
      "Player Total:  19\n",
      "Player do you want to trade another card? y/n: n\n",
      "Player Total:19\n",
      "Dealer Total:12\n"
     ]
    }
   ],
   "source": [
    "game.extracardplayer()"
   ]
  },
  {
   "cell_type": "code",
   "execution_count": 293,
   "metadata": {},
   "outputs": [
    {
     "name": "stdout",
     "output_type": "stream",
     "text": [
      "Dealer do you want to trade another card? y/n: y\n",
      "Dealer total:  15\n",
      "Dealer do you want to trade another card? y/n: y\n",
      "Dealer total:  25\n",
      "Dealer Busted\n",
      "Player Won\n",
      "Player Total:19\n",
      "Dealer Total:25\n"
     ]
    }
   ],
   "source": [
    "game.extracarddealer()"
   ]
  },
  {
   "cell_type": "code",
   "execution_count": 281,
   "metadata": {},
   "outputs": [
    {
     "name": "stdout",
     "output_type": "stream",
     "text": [
      "Scores right now are equal\n",
      "Toss will decide who will go first\n",
      "1\n",
      "Player goes first\n"
     ]
    },
    {
     "ename": "NameError",
     "evalue": "name 'extracardplayer' is not defined",
     "output_type": "error",
     "traceback": [
      "\u001b[1;31m---------------------------------------------------------------------------\u001b[0m",
      "\u001b[1;31mNameError\u001b[0m                                 Traceback (most recent call last)",
      "\u001b[1;32m<ipython-input-281-d1ef99d3bb1c>\u001b[0m in \u001b[0;36m<module>\u001b[1;34m\u001b[0m\n\u001b[1;32m----> 1\u001b[1;33m \u001b[0mgame\u001b[0m\u001b[1;33m.\u001b[0m\u001b[0mwincheck\u001b[0m\u001b[1;33m(\u001b[0m\u001b[1;33m)\u001b[0m\u001b[1;33m\u001b[0m\u001b[1;33m\u001b[0m\u001b[0m\n\u001b[0m",
      "\u001b[1;32m<ipython-input-276-d928b3d32637>\u001b[0m in \u001b[0;36mwincheck\u001b[1;34m(self)\u001b[0m\n\u001b[0;32m    100\u001b[0m             \u001b[1;32melse\u001b[0m\u001b[1;33m:\u001b[0m\u001b[1;33m\u001b[0m\u001b[1;33m\u001b[0m\u001b[0m\n\u001b[0;32m    101\u001b[0m                 \u001b[0mprint\u001b[0m \u001b[1;33m(\u001b[0m\u001b[1;34m'Player goes first'\u001b[0m\u001b[1;33m)\u001b[0m\u001b[1;33m\u001b[0m\u001b[1;33m\u001b[0m\u001b[0m\n\u001b[1;32m--> 102\u001b[1;33m                 \u001b[0mextracardplayer\u001b[0m\u001b[1;33m(\u001b[0m\u001b[0mself\u001b[0m\u001b[1;33m)\u001b[0m\u001b[1;33m\u001b[0m\u001b[1;33m\u001b[0m\u001b[0m\n\u001b[0m\u001b[0;32m    103\u001b[0m \u001b[1;33m\u001b[0m\u001b[0m\n\u001b[0;32m    104\u001b[0m         \u001b[1;32melif\u001b[0m \u001b[1;33m(\u001b[0m\u001b[0mdiffplayer\u001b[0m\u001b[1;33m>\u001b[0m\u001b[0mdiffdealer\u001b[0m\u001b[1;33m)\u001b[0m\u001b[1;33m:\u001b[0m\u001b[1;33m\u001b[0m\u001b[1;33m\u001b[0m\u001b[0m\n",
      "\u001b[1;31mNameError\u001b[0m: name 'extracardplayer' is not defined"
     ]
    }
   ],
   "source": [
    "game.wincheck()"
   ]
  },
  {
   "cell_type": "code",
   "execution_count": null,
   "metadata": {},
   "outputs": [],
   "source": []
  },
  {
   "cell_type": "code",
   "execution_count": 42,
   "metadata": {},
   "outputs": [],
   "source": [
    "def playerturn(playertotal):\n",
    "\n",
    "    print ('Player Turn')\n",
    "    i=1\n",
    "    if(i<=2):\n",
    "        a=random.randint(1,11)\n",
    "        playertotal+=a\n",
    "        i=i+1\n",
    "        print ('Player Total: ', playertotal)\n",
    "        if (playertotal==21):\n",
    "            print ('Player BlackJack')\n",
    "            return playertotal\n",
    "        return dealerturn()\n",
    "        \n",
    "    else:\n",
    "        choice=input('Player do you want to trade another card? y/n: ')\n",
    "        if (choice.lower()=='y'):\n",
    "            print ('Player Extra Card')\n",
    "            a=random.randint(1,11)\n",
    "            playertotal+=a\n",
    "            print('Player Total: ', playertotal)\n",
    "            if (playertotal==21):\n",
    "                print ('PLayer BlackJack')\n",
    "                return playertotal\n",
    "            elif (playertotal>21):\n",
    "                print ('Player Bust')\n",
    "                return playertotal\n",
    "            else:\n",
    "                return dealerturn()\n",
    "            \n",
    "        else:\n",
    "            print ('Playertotal is: ', playertotal)\n",
    "            return dealerturn()"
   ]
  },
  {
   "cell_type": "code",
   "execution_count": 43,
   "metadata": {},
   "outputs": [],
   "source": [
    "def dealerturn(dealertotal):\n",
    "\n",
    "    print ('Dealer Turn')\n",
    "    i=1\n",
    "    if(i<=2):\n",
    "        a=random.randint(1,11)\n",
    "        dealertotal+=a\n",
    "        i=i+1\n",
    "        print ('Dealer Total: ', dealertotal)\n",
    "        if (dealertotal==21):\n",
    "            print ('Dealer BlackJack')\n",
    "            return dealertotal\n",
    "        return playerturn()\n",
    "        \n",
    "    else:\n",
    "        choice=input('Dealer do you want to trade another card? y/n: ')\n",
    "        if (choice.lower()=='y'):\n",
    "            print ('Dealer Extra Card')\n",
    "            a=random.randint(1,11)\n",
    "            playertotal+=a\n",
    "            print('Dealer Total: ', dealertotal)\n",
    "            if (dealertotal==21):\n",
    "                print ('Dealer BlackJack')\n",
    "                return dealertotal\n",
    "            elif (playertotal>21):\n",
    "                print ('Dealer Bust')\n",
    "                return dealertotal\n",
    "            else:\n",
    "                return playerturn()\n",
    "            \n",
    "        else:\n",
    "            print ('Dealer total: ', dealertotal)\n",
    "            return playerturn()"
   ]
  },
  {
   "cell_type": "code",
   "execution_count": null,
   "metadata": {},
   "outputs": [],
   "source": []
  }
 ],
 "metadata": {
  "kernelspec": {
   "display_name": "Python 3",
   "language": "python",
   "name": "python3"
  },
  "language_info": {
   "codemirror_mode": {
    "name": "ipython",
    "version": 3
   },
   "file_extension": ".py",
   "mimetype": "text/x-python",
   "name": "python",
   "nbconvert_exporter": "python",
   "pygments_lexer": "ipython3",
   "version": "3.7.4"
  }
 },
 "nbformat": 4,
 "nbformat_minor": 2
}
