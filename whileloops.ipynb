{
 "cells": [
  {
   "cell_type": "markdown",
   "metadata": {},
   "source": [
    "while loops will continue to execute a block of code while some condition remains true."
   ]
  },
  {
   "cell_type": "code",
   "execution_count": 1,
   "metadata": {},
   "outputs": [
    {
     "name": "stdout",
     "output_type": "stream",
     "text": [
      "The current value of x is 0\n",
      "The current value of x is 1\n",
      "The current value of x is 2\n",
      "The current value of x is 3\n",
      "The current value of x is 4\n"
     ]
    }
   ],
   "source": [
    "x=0\n",
    "\n",
    "while (x<5):\n",
    "    print (f'The current value of x is {x}')\n",
    "    x=x+1"
   ]
  },
  {
   "cell_type": "code",
   "execution_count": 3,
   "metadata": {},
   "outputs": [
    {
     "name": "stdout",
     "output_type": "stream",
     "text": [
      "The current value of x is 0\n",
      "The current value of x is 1\n",
      "The current value of x is 2\n",
      "The current value of x is 3\n",
      "The current value of x is 4\n",
      "x is not less than 5 now\n"
     ]
    }
   ],
   "source": [
    "x=0\n",
    "\n",
    "while (x<5):\n",
    "    print (f'The current value of x is {x}')\n",
    "    x=x+1\n",
    "else:\n",
    "    print('x is not less than 5 now')"
   ]
  },
  {
   "cell_type": "markdown",
   "metadata": {},
   "source": [
    "break, continue, pass:\n",
    "break: Breaks out of the current closest enclosing loop\n",
    "continue: Goes to the top of the closest enclosing loop\n",
    "pass: does nothing at all"
   ]
  },
  {
   "cell_type": "code",
   "execution_count": 4,
   "metadata": {},
   "outputs": [
    {
     "name": "stdout",
     "output_type": "stream",
     "text": [
      "End of the script\n"
     ]
    }
   ],
   "source": [
    "x=[1,2,3]\n",
    "\n",
    "for i in x:\n",
    "    pass            #just to fill it. Used much of as a placeholder because pass keyword does nothing at all. No error will be given. If we write only a comment an error would occur\n",
    "\n",
    "print ('End of the script')"
   ]
  },
  {
   "cell_type": "code",
   "execution_count": 8,
   "metadata": {},
   "outputs": [
    {
     "name": "stdout",
     "output_type": "stream",
     "text": [
      "S\n",
      "m\n",
      "m\n",
      "y\n"
     ]
    }
   ],
   "source": [
    "mystring ='Sammy'\n",
    "\n",
    "for i in mystring:\n",
    "    if i=='a':        #not printing letetr a as continue keyword goes to the top of the enclosing loop and the below statement won't be executed\n",
    "        continue\n",
    "    print (i)"
   ]
  },
  {
   "cell_type": "code",
   "execution_count": 9,
   "metadata": {},
   "outputs": [
    {
     "name": "stdout",
     "output_type": "stream",
     "text": [
      "S\n"
     ]
    }
   ],
   "source": [
    "mystring ='Sammy'\n",
    "\n",
    "for i in mystring:\n",
    "    if i=='a':        \n",
    "        break       #breaks out of the loop when the condition is met\n",
    "    print (i)"
   ]
  },
  {
   "cell_type": "code",
   "execution_count": 10,
   "metadata": {},
   "outputs": [
    {
     "name": "stdout",
     "output_type": "stream",
     "text": [
      "0\n",
      "1\n"
     ]
    }
   ],
   "source": [
    "x=0\n",
    "\n",
    "while x<5:\n",
    "    if x==2:\n",
    "        break\n",
    "    print (x)\n",
    "    x+=1"
   ]
  },
  {
   "cell_type": "code",
   "execution_count": null,
   "metadata": {},
   "outputs": [],
   "source": []
  }
 ],
 "metadata": {
  "kernelspec": {
   "display_name": "Python 3",
   "language": "python",
   "name": "python3"
  },
  "language_info": {
   "codemirror_mode": {
    "name": "ipython",
    "version": 3
   },
   "file_extension": ".py",
   "mimetype": "text/x-python",
   "name": "python",
   "nbconvert_exporter": "python",
   "pygments_lexer": "ipython3",
   "version": "3.7.4"
  }
 },
 "nbformat": 4,
 "nbformat_minor": 2
}
