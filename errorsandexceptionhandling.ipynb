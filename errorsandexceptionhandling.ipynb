{
 "cells": [
  {
   "cell_type": "markdown",
   "metadata": {},
   "source": [
    "Errors are bound to happen in the code, specially when someone else ends up using it in an unexpected way. We can use error handling to attempt to plan for possible errors. We can use error handling to let the script continue with other code, even if there is an error."
   ]
  },
  {
   "cell_type": "code",
   "execution_count": 1,
   "metadata": {},
   "outputs": [],
   "source": [
    "def add(n1,n2):\n",
    "    print (n1+n2)"
   ]
  },
  {
   "cell_type": "code",
   "execution_count": 2,
   "metadata": {},
   "outputs": [
    {
     "name": "stdout",
     "output_type": "stream",
     "text": [
      "30\n"
     ]
    }
   ],
   "source": [
    "add (10,20)"
   ]
  },
  {
   "cell_type": "code",
   "execution_count": 3,
   "metadata": {},
   "outputs": [],
   "source": [
    "number1=10"
   ]
  },
  {
   "cell_type": "code",
   "execution_count": 4,
   "metadata": {},
   "outputs": [
    {
     "name": "stdout",
     "output_type": "stream",
     "text": [
      "Please enter a number: 20\n"
     ]
    }
   ],
   "source": [
    "number2=input('Please enter a number: ')"
   ]
  },
  {
   "cell_type": "code",
   "execution_count": 6,
   "metadata": {},
   "outputs": [
    {
     "ename": "TypeError",
     "evalue": "unsupported operand type(s) for +: 'int' and 'str'",
     "output_type": "error",
     "traceback": [
      "\u001b[1;31m---------------------------------------------------------------------------\u001b[0m",
      "\u001b[1;31mTypeError\u001b[0m                                 Traceback (most recent call last)",
      "\u001b[1;32m<ipython-input-6-5c23df5c0c6e>\u001b[0m in \u001b[0;36m<module>\u001b[1;34m\u001b[0m\n\u001b[1;32m----> 1\u001b[1;33m \u001b[0madd\u001b[0m\u001b[1;33m(\u001b[0m\u001b[0mnumber1\u001b[0m\u001b[1;33m,\u001b[0m \u001b[0mnumber2\u001b[0m\u001b[1;33m)\u001b[0m     \u001b[1;31m#so when we call add funcion number 2=20 is actually a string. We get a type error\u001b[0m\u001b[1;33m\u001b[0m\u001b[1;33m\u001b[0m\u001b[0m\n\u001b[0m\u001b[0;32m      2\u001b[0m \u001b[0mprint\u001b[0m \u001b[1;33m(\u001b[0m\u001b[1;34m'Something Happened!'\u001b[0m\u001b[1;33m)\u001b[0m   \u001b[1;31m#this print statement is not going to be executed because of above error.(there can be many lines of code after the error occurs and none will be executed)\u001b[0m\u001b[1;33m\u001b[0m\u001b[1;33m\u001b[0m\u001b[0m\n",
      "\u001b[1;32m<ipython-input-1-4a7bdebfb720>\u001b[0m in \u001b[0;36madd\u001b[1;34m(n1, n2)\u001b[0m\n\u001b[0;32m      1\u001b[0m \u001b[1;32mdef\u001b[0m \u001b[0madd\u001b[0m\u001b[1;33m(\u001b[0m\u001b[0mn1\u001b[0m\u001b[1;33m,\u001b[0m\u001b[0mn2\u001b[0m\u001b[1;33m)\u001b[0m\u001b[1;33m:\u001b[0m\u001b[1;33m\u001b[0m\u001b[1;33m\u001b[0m\u001b[0m\n\u001b[1;32m----> 2\u001b[1;33m     \u001b[0mprint\u001b[0m \u001b[1;33m(\u001b[0m\u001b[0mn1\u001b[0m\u001b[1;33m+\u001b[0m\u001b[0mn2\u001b[0m\u001b[1;33m)\u001b[0m\u001b[1;33m\u001b[0m\u001b[1;33m\u001b[0m\u001b[0m\n\u001b[0m",
      "\u001b[1;31mTypeError\u001b[0m: unsupported operand type(s) for +: 'int' and 'str'"
     ]
    }
   ],
   "source": [
    "add(number1, number2)     #so when we call add funcion number 2=20 is actually a string. We get a type error\n",
    "print ('Something Happened!')   #this print statement is not going to be executed because of above error.(there can be many lines of code after the error occurs and none will be executed)"
   ]
  },
  {
   "cell_type": "code",
   "execution_count": 7,
   "metadata": {},
   "outputs": [],
   "source": [
    "try:\n",
    "    #want to attempt this code\n",
    "    #may have an error\n",
    "    result=10+10\n",
    "    \n",
    "except:\n",
    "    #this block tells us what we want to happen \n",
    "    #if there is an error\n",
    "    print ('Hey looks like you arent adding correctly ')"
   ]
  },
  {
   "cell_type": "code",
   "execution_count": 8,
   "metadata": {},
   "outputs": [
    {
     "data": {
      "text/plain": [
       "20"
      ]
     },
     "execution_count": 8,
     "metadata": {},
     "output_type": "execute_result"
    }
   ],
   "source": [
    "result"
   ]
  },
  {
   "cell_type": "code",
   "execution_count": 9,
   "metadata": {},
   "outputs": [
    {
     "name": "stdout",
     "output_type": "stream",
     "text": [
      "Hey looks like you arent adding correctly \n"
     ]
    }
   ],
   "source": [
    "try:\n",
    "    #want to attempt this code\n",
    "    #may have an error\n",
    "    result=10+'10'\n",
    "    \n",
    "except:\n",
    "    #this block tells us what we want to happen      \n",
    "    #if there is an error\n",
    "    print ('Hey looks like you arent adding correctly ')   #the rest block of code was still able to execute even after the error"
   ]
  },
  {
   "cell_type": "markdown",
   "metadata": {},
   "source": [
    "Now lets imagine we want a block of code to execute if there is no exception. "
   ]
  },
  {
   "cell_type": "code",
   "execution_count": 10,
   "metadata": {},
   "outputs": [
    {
     "name": "stdout",
     "output_type": "stream",
     "text": [
      "Hey looks like you arent adding correctly \n"
     ]
    }
   ],
   "source": [
    "try:\n",
    "    #want to attempt this code\n",
    "    #may have an error\n",
    "    result=10+'10'\n",
    "    \n",
    "except:\n",
    "    #this block tells us what we want to happen      \n",
    "    #if there is an error\n",
    "    print ('Hey looks like you arent adding correctly ') \n",
    "    \n",
    "else:                         #if there is no error in the try block this else block is executed\n",
    "    print ('Add went well')\n",
    "    print (result)"
   ]
  },
  {
   "cell_type": "code",
   "execution_count": 11,
   "metadata": {},
   "outputs": [
    {
     "name": "stdout",
     "output_type": "stream",
     "text": [
      "Add went well\n",
      "20\n"
     ]
    }
   ],
   "source": [
    "try:\n",
    "    #want to attempt this code\n",
    "    #may have an error\n",
    "    result=10+10\n",
    "    \n",
    "except:\n",
    "    #this block tells us what we want to happen      \n",
    "    #if there is an error\n",
    "    print ('Hey looks like you arent adding correctly ') \n",
    "    \n",
    "else:                         #if there is no error in the try block this else block is executed\n",
    "    print ('Add went well')\n",
    "    print (result)"
   ]
  },
  {
   "cell_type": "markdown",
   "metadata": {},
   "source": [
    "We can now use the finally keyword to have a block of code always executing regardless if there is an error."
   ]
  },
  {
   "cell_type": "code",
   "execution_count": 12,
   "metadata": {},
   "outputs": [
    {
     "name": "stdout",
     "output_type": "stream",
     "text": [
      "I always run\n"
     ]
    }
   ],
   "source": [
    "try:\n",
    "    f=open('testfile','w')    #open a file in write mode or create a file if it does not already exists\n",
    "    f.write('Write a test line')\n",
    "\n",
    "except TypeError:                                 #there are many types of errors we can specifically except for\n",
    "    print ('There was a type error')\n",
    "\n",
    "except OSError:               #this error is related to when we try to open and write to file which we don't have permissions to\n",
    "    print ('Hey you have an OS Error')\n",
    "    \n",
    "finally:\n",
    "    print ('I always run')"
   ]
  },
  {
   "cell_type": "code",
   "execution_count": 13,
   "metadata": {},
   "outputs": [
    {
     "name": "stdout",
     "output_type": "stream",
     "text": [
      "Hey you have an OS Error\n",
      "I always run\n"
     ]
    }
   ],
   "source": [
    "try:\n",
    "    f=open('testfile','r')    #here we are open a file with r read and in next statement we are writing to it.\n",
    "    f.write('Write a test line')\n",
    "\n",
    "except TypeError:                                 #there are many types of errors we can specifically except for\n",
    "    print ('There was a type error')\n",
    "\n",
    "except OSError:               #we will get an OS error that is the error related to trying to write to a file\n",
    "    print ('Hey you have an OS Error')\n",
    "    \n",
    "finally:                     #finally block will always run irrespective of the error\n",
    "    print ('I always run')"
   ]
  },
  {
   "cell_type": "code",
   "execution_count": 14,
   "metadata": {},
   "outputs": [],
   "source": [
    "def ask_for_int():\n",
    "    try:\n",
    "        result=int(input('Please provide number: '))\n",
    "        \n",
    "    except:\n",
    "        print ('That is not an integer')\n",
    "        \n",
    "    finally:\n",
    "        print ('End of try except finally')"
   ]
  },
  {
   "cell_type": "code",
   "execution_count": 15,
   "metadata": {},
   "outputs": [
    {
     "name": "stdout",
     "output_type": "stream",
     "text": [
      "Please provide number: 20\n",
      "End of try except finally\n"
     ]
    }
   ],
   "source": [
    "ask_for_int()"
   ]
  },
  {
   "cell_type": "code",
   "execution_count": 16,
   "metadata": {},
   "outputs": [
    {
     "name": "stdout",
     "output_type": "stream",
     "text": [
      "Please provide number: word\n",
      "That is not an integer\n",
      "End of try except finally\n"
     ]
    }
   ],
   "source": [
    "ask_for_int()"
   ]
  },
  {
   "cell_type": "code",
   "execution_count": 19,
   "metadata": {},
   "outputs": [],
   "source": [
    "def ask_for_int():\n",
    "    \n",
    "    while True:\n",
    "        try:\n",
    "            result=int(input('Please provide number: '))\n",
    "\n",
    "        except:\n",
    "            print ('That is not an integer')\n",
    "            continue\n",
    "        \n",
    "        else:\n",
    "            print('Yes thank you')\n",
    "            break\n",
    "\n",
    "        finally:\n",
    "            print ('End of try except finally')\n",
    "            print ('I will always run at the end')"
   ]
  },
  {
   "cell_type": "code",
   "execution_count": 20,
   "metadata": {},
   "outputs": [
    {
     "name": "stdout",
     "output_type": "stream",
     "text": [
      "Please provide number: 20\n",
      "Yes thank you\n",
      "End of try except finally\n",
      "I will always run at the end\n"
     ]
    }
   ],
   "source": [
    "ask_for_int()"
   ]
  },
  {
   "cell_type": "code",
   "execution_count": 21,
   "metadata": {},
   "outputs": [
    {
     "name": "stdout",
     "output_type": "stream",
     "text": [
      "Please provide number: word\n",
      "That is not an integer\n",
      "End of try except finally\n",
      "I will always run at the end\n",
      "Please provide number: e\n",
      "That is not an integer\n",
      "End of try except finally\n",
      "I will always run at the end\n",
      "Please provide number: 20\n",
      "Yes thank you\n",
      "End of try except finally\n",
      "I will always run at the end\n"
     ]
    }
   ],
   "source": [
    "ask_for_int()"
   ]
  },
  {
   "cell_type": "code",
   "execution_count": 24,
   "metadata": {},
   "outputs": [],
   "source": [
    "def ask_for_int():\n",
    "    \n",
    "    while True:\n",
    "        try:\n",
    "            result=int(input('Please provide number: '))\n",
    "\n",
    "        except:\n",
    "            print ('That is not an integer')\n",
    "            continue\n",
    "        \n",
    "        else:\n",
    "            print ('Valid Number')\n",
    "            break"
   ]
  },
  {
   "cell_type": "code",
   "execution_count": 25,
   "metadata": {},
   "outputs": [
    {
     "name": "stdout",
     "output_type": "stream",
     "text": [
      "Please provide number: a\n",
      "That is not an integer\n",
      "Please provide number: 2\n",
      "Valid Number\n"
     ]
    }
   ],
   "source": [
    "ask_for_int()"
   ]
  },
  {
   "cell_type": "code",
   "execution_count": null,
   "metadata": {},
   "outputs": [],
   "source": []
  }
 ],
 "metadata": {
  "kernelspec": {
   "display_name": "Python 3",
   "language": "python",
   "name": "python3"
  },
  "language_info": {
   "codemirror_mode": {
    "name": "ipython",
    "version": 3
   },
   "file_extension": ".py",
   "mimetype": "text/x-python",
   "name": "python",
   "nbconvert_exporter": "python",
   "pygments_lexer": "ipython3",
   "version": "3.7.4"
  }
 },
 "nbformat": 4,
 "nbformat_minor": 2
}
